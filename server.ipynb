{
 "cells": [
  {
   "cell_type": "code",
   "execution_count": 7,
   "source": [
    "from datetime import date, timedelta\n",
    "\n",
    "today = date.today()\n",
    "for num in range(1,10):\n",
    "  iter_day = today + timedelta(days=num-3)\n",
    "  print(iter_day.day)"
   ],
   "outputs": [
    {
     "output_type": "stream",
     "name": "stdout",
     "text": [
      "9\n",
      "10\n",
      "11\n",
      "12\n",
      "13\n",
      "14\n",
      "15\n",
      "16\n",
      "17\n"
     ]
    }
   ],
   "metadata": {}
  },
  {
   "cell_type": "code",
   "execution_count": 6,
   "source": [
    "import sqlite3\n",
    "\n",
    "date1 = '20211109'\n",
    "date2 = '20211110'\n",
    "\n",
    "conn = sqlite3.connect('./data/calendar_database.db')\n",
    "cur = conn.cursor()\n",
    "#cur.execute(\"INSERT INTO Notes (note_id, date_key, icon_key, title, text) VALUES (?,?,?,?,?)\",('1', date1, 'guitar', 'I Played Guitar', 'Yeah it was fun.') )\n",
    "#cur.execute(\"INSERT INTO Notes (note_id, date_key, icon_key, title, text) VALUES (?,?,?,?,?)\",('2', date2, 'bike', 'I Road My Bike', 'Down the windy road.') )\n",
    "cur.execute(\"select * from Notes\")\n",
    "\n",
    "print(cur.fetchall())"
   ],
   "outputs": [
    {
     "output_type": "stream",
     "name": "stdout",
     "text": [
      "[('1', '20211109', 'guitar', 'I Played Guitar', 'Yeah it was fun.'), ('2', '20211110', 'bike', 'I Road My Bike', 'Down the windy road.')]\n"
     ]
    }
   ],
   "metadata": {}
  }
 ],
 "metadata": {
  "orig_nbformat": 4,
  "language_info": {
   "name": "python",
   "version": "3.9.6",
   "mimetype": "text/x-python",
   "codemirror_mode": {
    "name": "ipython",
    "version": 3
   },
   "pygments_lexer": "ipython3",
   "nbconvert_exporter": "python",
   "file_extension": ".py"
  },
  "kernelspec": {
   "name": "python3",
   "display_name": "Python 3.9.6 64-bit ('py39': conda)"
  },
  "interpreter": {
   "hash": "304bd52ea3f9c57757332de2d791fd22560025560eaee08a716bf4cf2ae76b0d"
  }
 },
 "nbformat": 4,
 "nbformat_minor": 2
}